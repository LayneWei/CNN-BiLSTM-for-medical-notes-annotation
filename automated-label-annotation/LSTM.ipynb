{
 "cells": [
  {
   "cell_type": "markdown",
   "metadata": {},
   "source": [
    "# Bi-LSTM & CNN for Automated Clinical Notes Annotation\n",
    "\n",
    "Annotation in cNLP refers to the process of manually identifying the mentions of data elements of target signs, symptoms, events, etc. to be extracted in clinical notes.  Although it’s imperfect, it is an important process that provides: <br>\n",
    "(1) quality control for clinical NLP output data<br>\n",
    "(2) gold standards to evaluate the performance of clinical NLP tools<br>\n",
    "(3) training examples to develop and improve clinical NLP tools. So that’s why we started this project."
   ]
  },
  {
   "cell_type": "markdown",
   "metadata": {},
   "source": [
    "## Part 1: Data Collection\n",
    "#### This part of code is used for collecting clinical notes in xml format from a folder"
   ]
  },
  {
   "cell_type": "code",
   "execution_count": 250,
   "metadata": {
    "scrolled": true
   },
   "outputs": [],
   "source": [
    "import os\n",
    "import pandas as pd\n",
    "import transform_folder_to_list as tftl\n",
    "import preprocess_mae as mae\n",
    "from tensorflow.keras.preprocessing.text import Tokenizer\n",
    "import re\n",
    "from tensorflow.keras.preprocessing.sequence import pad_sequences\n",
    "import numpy as np\n",
    "import spacy,en_core_web_sm\n",
    "from pysbd.utils import PySBDFactory\n",
    "import segm_prep_utils as spu"
   ]
  },
  {
   "cell_type": "code",
   "execution_count": 252,
   "metadata": {
    "scrolled": true
   },
   "outputs": [
    {
     "name": "stdout",
     "output_type": "stream",
     "text": [
      "Type in the folder path:/Users/laynewei/Desktop/UCSF_intern/Data/training-PHI-Gold-Set1\n"
     ]
    }
   ],
   "source": [
    "#Type in the folder path\n",
    "folder_path=input(\"Type in the folder path:\")"
   ]
  },
  {
   "cell_type": "code",
   "execution_count": 253,
   "metadata": {
    "scrolled": true
   },
   "outputs": [
    {
     "data": {
      "text/plain": [
       "521"
      ]
     },
     "execution_count": 253,
     "metadata": {},
     "output_type": "execute_result"
    }
   ],
   "source": [
    "files = []\n",
    "for file in os.listdir(folder_path):\n",
    "    file_path = folder_path + '/' + file\n",
    "    if file_path.endswith(\"xml\"):\n",
    "        files.append(file_path)\n",
    "len(files)"
   ]
  },
  {
   "cell_type": "code",
   "execution_count": 254,
   "metadata": {},
   "outputs": [
    {
     "data": {
      "text/plain": [
       "\"\\n# Here's the code using spacy_tokenizer to tokenize the text, but we end up using other tokenizer\\nspacy_tokenizer = spu.get_spacy_tokenizer(special_cases_file = 'special-cases-spacy.yaml')\\n\\nconvert = lambda x: spu.annotation_json2septext(\\n    ' ' + x['text'], x['seq_annotations'],\\n    sep = '#%#',\\n    tokenize = spacy_tokenizer,\\n    sep_label = 'punctuation',\\n    start = 'start',\\n    end = 'end',\\n).lower()\\n\""
      ]
     },
     "execution_count": 254,
     "metadata": {},
     "output_type": "execute_result"
    }
   ],
   "source": [
    "\"\"\"\n",
    "# Here's the code using spacy_tokenizer to tokenize the text, but we end up using other tokenizer\n",
    "spacy_tokenizer = spu.get_spacy_tokenizer(special_cases_file = 'special-cases-spacy.yaml')\n",
    "\n",
    "convert = lambda x: spu.annotation_json2septext(\n",
    "    ' ' + x['text'], x['seq_annotations'],\n",
    "    sep = '#%#',\n",
    "    tokenize = spacy_tokenizer,\n",
    "    sep_label = 'punctuation',\n",
    "    start = 'start',\n",
    "    end = 'end',\n",
    ").lower()\n",
    "\"\"\""
   ]
  },
  {
   "cell_type": "code",
   "execution_count": 255,
   "metadata": {
    "scrolled": true
   },
   "outputs": [],
   "source": [
    "# get label of token based on the start index(used in label_data_frame that we'll create later):\n",
    "def get_label(label_df, start):\n",
    "    token_label_ =  label_df.loc[label_df.index.contains(start), \"label\"] \n",
    "    if len(token_label_)==0:\n",
    "        return None\n",
    "    else:\n",
    "        return token_label_.iloc[0]"
   ]
  },
  {
   "cell_type": "markdown",
   "metadata": {},
   "source": [
    "#### Create empty token_label data frame"
   ]
  },
  {
   "cell_type": "code",
   "execution_count": 256,
   "metadata": {
    "scrolled": true
   },
   "outputs": [],
   "source": [
    "column_names = [\"file_name\", \"sentence\", \"token\", \"POS\", \"label\",\"index\"]\n",
    "df = pd.DataFrame(columns = column_names)"
   ]
  },
  {
   "cell_type": "code",
   "execution_count": 257,
   "metadata": {
    "scrolled": true
   },
   "outputs": [],
   "source": [
    "# add PySBDFactory as a sentence_segmenter to the spacy nlp pipeline. Put it before parser\n",
    "nlp = en_core_web_sm.load()\n",
    "nlp.add_pipe(PySBDFactory(nlp),name='sentence_segmenter', before='parser')\n",
    "# functions that display the components of the pipeline\n",
    "# nlp.pipe_names"
   ]
  },
  {
   "cell_type": "code",
   "execution_count": 258,
   "metadata": {
    "scrolled": false
   },
   "outputs": [
    {
     "name": "stdout",
     "output_type": "stream",
     "text": [
      "0\n",
      "20\n",
      "40\n",
      "60\n",
      "80\n",
      "100\n",
      "120\n",
      "140\n",
      "160\n",
      "180\n",
      "200\n",
      "220\n",
      "240\n",
      "260\n",
      "280\n",
      "300\n",
      "320\n",
      "340\n",
      "360\n",
      "380\n",
      "400\n",
      "420\n",
      "440\n",
      "460\n",
      "480\n",
      "500\n",
      "520\n"
     ]
    }
   ],
   "source": [
    "# n is used to count the sentences, the first sentence of the first file should be 0, \n",
    "# and the first sentence of the second file should not be 0\n",
    "n=0\n",
    "for i,file in enumerate(files):\n",
    "    if i%20 ==0:\n",
    "        print(i)\n",
    "    document = tftl.convert_mae(file)\n",
    "    text = document['text']\n",
    "    labels = document['seq_annotations']\n",
    "    # The index of the text starts from 1 rather than 0, so the index should minus 1\n",
    "    label_idx = pd.IntervalIndex.from_tuples([(x[\"start\"]-1, x[\"end\"]-1) for x in labels], closed='left')\n",
    "    label_df = pd.DataFrame(labels, index=label_idx)\n",
    "   \n",
    "    doc=nlp(text)\n",
    "    sentences=list(doc.sents)\n",
    "    for sentence in sentences:\n",
    "        token_infos=[(file.split('/')[-1],n,token.text if token.pos_ != 'NUM' else 'NUM', token.pos_, get_label(label_df,token.idx),token.idx) for token in sentence]\n",
    "        for token_info in token_infos:\n",
    "            df.loc[len(df)]=token_info\n",
    "        n+=1"
   ]
  },
  {
   "cell_type": "markdown",
   "metadata": {},
   "source": [
    "Check the data information"
   ]
  },
  {
   "cell_type": "code",
   "execution_count": 262,
   "metadata": {
    "scrolled": true
   },
   "outputs": [
    {
     "data": {
      "text/html": [
       "<div>\n",
       "<style scoped>\n",
       "    .dataframe tbody tr th:only-of-type {\n",
       "        vertical-align: middle;\n",
       "    }\n",
       "\n",
       "    .dataframe tbody tr th {\n",
       "        vertical-align: top;\n",
       "    }\n",
       "\n",
       "    .dataframe thead th {\n",
       "        text-align: right;\n",
       "    }\n",
       "</style>\n",
       "<table border=\"1\" class=\"dataframe\">\n",
       "  <thead>\n",
       "    <tr style=\"text-align: right;\">\n",
       "      <th></th>\n",
       "      <th>file_name</th>\n",
       "      <th>sentence</th>\n",
       "      <th>token</th>\n",
       "      <th>POS</th>\n",
       "      <th>label</th>\n",
       "      <th>index</th>\n",
       "    </tr>\n",
       "  </thead>\n",
       "  <tbody>\n",
       "    <tr>\n",
       "      <th>count</th>\n",
       "      <td>507436</td>\n",
       "      <td>507436</td>\n",
       "      <td>507436</td>\n",
       "      <td>507436</td>\n",
       "      <td>19312</td>\n",
       "      <td>507436</td>\n",
       "    </tr>\n",
       "    <tr>\n",
       "      <th>unique</th>\n",
       "      <td>521</td>\n",
       "      <td>48364</td>\n",
       "      <td>18443</td>\n",
       "      <td>18</td>\n",
       "      <td>26</td>\n",
       "      <td>16429</td>\n",
       "    </tr>\n",
       "    <tr>\n",
       "      <th>top</th>\n",
       "      <td>291-02.xml</td>\n",
       "      <td>20206</td>\n",
       "      <td>NUM</td>\n",
       "      <td>NOUN</td>\n",
       "      <td>date-date</td>\n",
       "      <td>0</td>\n",
       "    </tr>\n",
       "    <tr>\n",
       "      <th>freq</th>\n",
       "      <td>4527</td>\n",
       "      <td>734</td>\n",
       "      <td>32604</td>\n",
       "      <td>94057</td>\n",
       "      <td>7970</td>\n",
       "      <td>521</td>\n",
       "    </tr>\n",
       "  </tbody>\n",
       "</table>\n",
       "</div>"
      ],
      "text/plain": [
       "         file_name  sentence   token     POS      label   index\n",
       "count       507436    507436  507436  507436      19312  507436\n",
       "unique         521     48364   18443      18         26   16429\n",
       "top     291-02.xml     20206     NUM    NOUN  date-date       0\n",
       "freq          4527       734   32604   94057       7970     521"
      ]
     },
     "execution_count": 262,
     "metadata": {},
     "output_type": "execute_result"
    }
   ],
   "source": [
    "df.describe()"
   ]
  },
  {
   "cell_type": "code",
   "execution_count": 263,
   "metadata": {},
   "outputs": [
    {
     "name": "stdout",
     "output_type": "stream",
     "text": [
      "<class 'pandas.core.frame.DataFrame'>\n",
      "Int64Index: 507436 entries, 0 to 507435\n",
      "Data columns (total 6 columns):\n",
      " #   Column     Non-Null Count   Dtype \n",
      "---  ------     --------------   ----- \n",
      " 0   file_name  507436 non-null  object\n",
      " 1   sentence   507436 non-null  object\n",
      " 2   token      507436 non-null  object\n",
      " 3   POS        507436 non-null  object\n",
      " 4   label      19312 non-null   object\n",
      " 5   index      507436 non-null  object\n",
      "dtypes: object(6)\n",
      "memory usage: 27.1+ MB\n"
     ]
    }
   ],
   "source": [
    "df.info()"
   ]
  },
  {
   "cell_type": "code",
   "execution_count": 265,
   "metadata": {},
   "outputs": [
    {
     "data": {
      "text/plain": [
       "bg                         488124\n",
       "date-date                    7970\n",
       "name-doctor                  3492\n",
       "location-hospital            1722\n",
       "name-patient                 1659\n",
       "id-medicalrecord              889\n",
       "age-age                       816\n",
       "contact-phone                 563\n",
       "location-street               438\n",
       "location-city                 342\n",
       "id-idnum                      275\n",
       "profession-profession         261\n",
       "location-state                222\n",
       "name-username                 219\n",
       "location-organization         166\n",
       "location-zip                  145\n",
       "location-country               59\n",
       "contact-fax                    25\n",
       "location-location-other        12\n",
       "phi-date                       12\n",
       "id-device                       7\n",
       "contact-url                     6\n",
       "contact-email                   3\n",
       "phi-doctor                      3\n",
       "phi-patient                     3\n",
       "id-healthplan                   2\n",
       "id-bioid                        1\n",
       "Name: label, dtype: int64"
      ]
     },
     "execution_count": 265,
     "metadata": {},
     "output_type": "execute_result"
    }
   ],
   "source": [
    "df['label'].fillna('bg',inplace=True)\n",
    "df['label'].value_counts()"
   ]
  },
  {
   "cell_type": "markdown",
   "metadata": {},
   "source": [
    "# Part 2 Data Manipulation\n",
    "#### The ratio of bg/other label is too large,so there exist inbalanced data problem<br>\n",
    "#### Possible solution:<br>\n",
    "(1) Data Augmentation: Deleting sentences that doesn't have any label at all to reduce the ratio.(Used in this project)<br>\n",
    "(2) Incorporate weighted_sample from keras to change the weight of different labels (If there's still a need to improve the model)<br>\n",
    "(3) Try tf.keras.losses.SigmoidFocalCrossEntropy() while compiling the model"
   ]
  },
  {
   "cell_type": "markdown",
   "metadata": {},
   "source": [
    "#### Data Cleaning to delete sentence that does not have label"
   ]
  },
  {
   "cell_type": "code",
   "execution_count": 298,
   "metadata": {},
   "outputs": [],
   "source": [
    "new_df=df.copy()"
   ]
  },
  {
   "cell_type": "code",
   "execution_count": 299,
   "metadata": {},
   "outputs": [],
   "source": [
    "new_df = new_df.groupby('sentence').filter(lambda x: len(x.loc[x.label=='bg'])!=len(x) )"
   ]
  },
  {
   "cell_type": "code",
   "execution_count": 300,
   "metadata": {},
   "outputs": [
    {
     "data": {
      "text/html": [
       "<div>\n",
       "<style scoped>\n",
       "    .dataframe tbody tr th:only-of-type {\n",
       "        vertical-align: middle;\n",
       "    }\n",
       "\n",
       "    .dataframe tbody tr th {\n",
       "        vertical-align: top;\n",
       "    }\n",
       "\n",
       "    .dataframe thead th {\n",
       "        text-align: right;\n",
       "    }\n",
       "</style>\n",
       "<table border=\"1\" class=\"dataframe\">\n",
       "  <thead>\n",
       "    <tr style=\"text-align: right;\">\n",
       "      <th></th>\n",
       "      <th>file_name</th>\n",
       "      <th>sentence</th>\n",
       "      <th>token</th>\n",
       "      <th>POS</th>\n",
       "      <th>label</th>\n",
       "      <th>index</th>\n",
       "    </tr>\n",
       "  </thead>\n",
       "  <tbody>\n",
       "    <tr>\n",
       "      <th>1</th>\n",
       "      <td>279-03.xml</td>\n",
       "      <td>1</td>\n",
       "      <td>record</td>\n",
       "      <td>NOUN</td>\n",
       "      <td>bg</td>\n",
       "      <td>2</td>\n",
       "    </tr>\n",
       "    <tr>\n",
       "      <th>2</th>\n",
       "      <td>279-03.xml</td>\n",
       "      <td>1</td>\n",
       "      <td>date</td>\n",
       "      <td>NOUN</td>\n",
       "      <td>bg</td>\n",
       "      <td>9</td>\n",
       "    </tr>\n",
       "    <tr>\n",
       "      <th>3</th>\n",
       "      <td>279-03.xml</td>\n",
       "      <td>1</td>\n",
       "      <td>:</td>\n",
       "      <td>PUNCT</td>\n",
       "      <td>bg</td>\n",
       "      <td>13</td>\n",
       "    </tr>\n",
       "    <tr>\n",
       "      <th>4</th>\n",
       "      <td>279-03.xml</td>\n",
       "      <td>1</td>\n",
       "      <td>NUM</td>\n",
       "      <td>NUM</td>\n",
       "      <td>date-date</td>\n",
       "      <td>15</td>\n",
       "    </tr>\n",
       "    <tr>\n",
       "      <th>5</th>\n",
       "      <td>279-03.xml</td>\n",
       "      <td>1</td>\n",
       "      <td>-</td>\n",
       "      <td>PUNCT</td>\n",
       "      <td>date-date</td>\n",
       "      <td>19</td>\n",
       "    </tr>\n",
       "    <tr>\n",
       "      <th>6</th>\n",
       "      <td>279-03.xml</td>\n",
       "      <td>1</td>\n",
       "      <td>NUM</td>\n",
       "      <td>NUM</td>\n",
       "      <td>date-date</td>\n",
       "      <td>20</td>\n",
       "    </tr>\n",
       "    <tr>\n",
       "      <th>7</th>\n",
       "      <td>279-03.xml</td>\n",
       "      <td>1</td>\n",
       "      <td>-</td>\n",
       "      <td>SYM</td>\n",
       "      <td>date-date</td>\n",
       "      <td>22</td>\n",
       "    </tr>\n",
       "    <tr>\n",
       "      <th>8</th>\n",
       "      <td>279-03.xml</td>\n",
       "      <td>1</td>\n",
       "      <td>NUM</td>\n",
       "      <td>NUM</td>\n",
       "      <td>date-date</td>\n",
       "      <td>23</td>\n",
       "    </tr>\n",
       "    <tr>\n",
       "      <th>9</th>\n",
       "      <td>279-03.xml</td>\n",
       "      <td>1</td>\n",
       "      <td>\\n\\n</td>\n",
       "      <td>SPACE</td>\n",
       "      <td>bg</td>\n",
       "      <td>25</td>\n",
       "    </tr>\n",
       "    <tr>\n",
       "      <th>16</th>\n",
       "      <td>279-03.xml</td>\n",
       "      <td>3</td>\n",
       "      <td>name</td>\n",
       "      <td>NOUN</td>\n",
       "      <td>bg</td>\n",
       "      <td>59</td>\n",
       "    </tr>\n",
       "    <tr>\n",
       "      <th>17</th>\n",
       "      <td>279-03.xml</td>\n",
       "      <td>3</td>\n",
       "      <td>:</td>\n",
       "      <td>PUNCT</td>\n",
       "      <td>bg</td>\n",
       "      <td>63</td>\n",
       "    </tr>\n",
       "    <tr>\n",
       "      <th>18</th>\n",
       "      <td>279-03.xml</td>\n",
       "      <td>3</td>\n",
       "      <td>\\t</td>\n",
       "      <td>SPACE</td>\n",
       "      <td>bg</td>\n",
       "      <td>64</td>\n",
       "    </tr>\n",
       "    <tr>\n",
       "      <th>19</th>\n",
       "      <td>279-03.xml</td>\n",
       "      <td>3</td>\n",
       "      <td>hendrickson</td>\n",
       "      <td>PROPN</td>\n",
       "      <td>name-patient</td>\n",
       "      <td>65</td>\n",
       "    </tr>\n",
       "    <tr>\n",
       "      <th>20</th>\n",
       "      <td>279-03.xml</td>\n",
       "      <td>3</td>\n",
       "      <td>,</td>\n",
       "      <td>PUNCT</td>\n",
       "      <td>name-patient</td>\n",
       "      <td>76</td>\n",
       "    </tr>\n",
       "    <tr>\n",
       "      <th>21</th>\n",
       "      <td>279-03.xml</td>\n",
       "      <td>3</td>\n",
       "      <td>ora</td>\n",
       "      <td>PROPN</td>\n",
       "      <td>name-patient</td>\n",
       "      <td>78</td>\n",
       "    </tr>\n",
       "    <tr>\n",
       "      <th>22</th>\n",
       "      <td>279-03.xml</td>\n",
       "      <td>3</td>\n",
       "      <td>\\n\\n</td>\n",
       "      <td>SPACE</td>\n",
       "      <td>bg</td>\n",
       "      <td>81</td>\n",
       "    </tr>\n",
       "    <tr>\n",
       "      <th>23</th>\n",
       "      <td>279-03.xml</td>\n",
       "      <td>4</td>\n",
       "      <td>mr</td>\n",
       "      <td>PROPN</td>\n",
       "      <td>bg</td>\n",
       "      <td>83</td>\n",
       "    </tr>\n",
       "    <tr>\n",
       "      <th>24</th>\n",
       "      <td>279-03.xml</td>\n",
       "      <td>4</td>\n",
       "      <td>#</td>\n",
       "      <td>PROPN</td>\n",
       "      <td>bg</td>\n",
       "      <td>85</td>\n",
       "    </tr>\n",
       "    <tr>\n",
       "      <th>25</th>\n",
       "      <td>279-03.xml</td>\n",
       "      <td>4</td>\n",
       "      <td>\\t\\t</td>\n",
       "      <td>SPACE</td>\n",
       "      <td>bg</td>\n",
       "      <td>87</td>\n",
       "    </tr>\n",
       "    <tr>\n",
       "      <th>26</th>\n",
       "      <td>279-03.xml</td>\n",
       "      <td>4</td>\n",
       "      <td>NUM</td>\n",
       "      <td>NUM</td>\n",
       "      <td>id-medicalrecord</td>\n",
       "      <td>89</td>\n",
       "    </tr>\n",
       "    <tr>\n",
       "      <th>27</th>\n",
       "      <td>279-03.xml</td>\n",
       "      <td>4</td>\n",
       "      <td>\\n\\n</td>\n",
       "      <td>SPACE</td>\n",
       "      <td>bg</td>\n",
       "      <td>96</td>\n",
       "    </tr>\n",
       "    <tr>\n",
       "      <th>28</th>\n",
       "      <td>279-03.xml</td>\n",
       "      <td>5</td>\n",
       "      <td>date</td>\n",
       "      <td>NOUN</td>\n",
       "      <td>bg</td>\n",
       "      <td>98</td>\n",
       "    </tr>\n",
       "    <tr>\n",
       "      <th>29</th>\n",
       "      <td>279-03.xml</td>\n",
       "      <td>5</td>\n",
       "      <td>:</td>\n",
       "      <td>PUNCT</td>\n",
       "      <td>bg</td>\n",
       "      <td>102</td>\n",
       "    </tr>\n",
       "    <tr>\n",
       "      <th>30</th>\n",
       "      <td>279-03.xml</td>\n",
       "      <td>5</td>\n",
       "      <td>\\t</td>\n",
       "      <td>SPACE</td>\n",
       "      <td>bg</td>\n",
       "      <td>104</td>\n",
       "    </tr>\n",
       "    <tr>\n",
       "      <th>31</th>\n",
       "      <td>279-03.xml</td>\n",
       "      <td>5</td>\n",
       "      <td>01/13/93</td>\n",
       "      <td>PUNCT</td>\n",
       "      <td>date-date</td>\n",
       "      <td>106</td>\n",
       "    </tr>\n",
       "    <tr>\n",
       "      <th>32</th>\n",
       "      <td>279-03.xml</td>\n",
       "      <td>5</td>\n",
       "      <td>\\n\\n</td>\n",
       "      <td>SPACE</td>\n",
       "      <td>bg</td>\n",
       "      <td>114</td>\n",
       "    </tr>\n",
       "    <tr>\n",
       "      <th>33</th>\n",
       "      <td>279-03.xml</td>\n",
       "      <td>6</td>\n",
       "      <td>pcp</td>\n",
       "      <td>NOUN</td>\n",
       "      <td>bg</td>\n",
       "      <td>116</td>\n",
       "    </tr>\n",
       "    <tr>\n",
       "      <th>34</th>\n",
       "      <td>279-03.xml</td>\n",
       "      <td>6</td>\n",
       "      <td>:</td>\n",
       "      <td>PUNCT</td>\n",
       "      <td>bg</td>\n",
       "      <td>119</td>\n",
       "    </tr>\n",
       "    <tr>\n",
       "      <th>35</th>\n",
       "      <td>279-03.xml</td>\n",
       "      <td>6</td>\n",
       "      <td>\\t\\t</td>\n",
       "      <td>SPACE</td>\n",
       "      <td>bg</td>\n",
       "      <td>120</td>\n",
       "    </tr>\n",
       "    <tr>\n",
       "      <th>36</th>\n",
       "      <td>279-03.xml</td>\n",
       "      <td>6</td>\n",
       "      <td>oliveira</td>\n",
       "      <td>PROPN</td>\n",
       "      <td>name-doctor</td>\n",
       "      <td>122</td>\n",
       "    </tr>\n",
       "  </tbody>\n",
       "</table>\n",
       "</div>"
      ],
      "text/plain": [
       "     file_name sentence        token    POS             label index\n",
       "1   279-03.xml        1       record   NOUN                bg     2\n",
       "2   279-03.xml        1         date   NOUN                bg     9\n",
       "3   279-03.xml        1            :  PUNCT                bg    13\n",
       "4   279-03.xml        1          NUM    NUM         date-date    15\n",
       "5   279-03.xml        1            -  PUNCT         date-date    19\n",
       "6   279-03.xml        1          NUM    NUM         date-date    20\n",
       "7   279-03.xml        1            -    SYM         date-date    22\n",
       "8   279-03.xml        1          NUM    NUM         date-date    23\n",
       "9   279-03.xml        1         \\n\\n  SPACE                bg    25\n",
       "16  279-03.xml        3         name   NOUN                bg    59\n",
       "17  279-03.xml        3            :  PUNCT                bg    63\n",
       "18  279-03.xml        3           \\t  SPACE                bg    64\n",
       "19  279-03.xml        3  hendrickson  PROPN      name-patient    65\n",
       "20  279-03.xml        3            ,  PUNCT      name-patient    76\n",
       "21  279-03.xml        3          ora  PROPN      name-patient    78\n",
       "22  279-03.xml        3         \\n\\n  SPACE                bg    81\n",
       "23  279-03.xml        4           mr  PROPN                bg    83\n",
       "24  279-03.xml        4            #  PROPN                bg    85\n",
       "25  279-03.xml        4         \\t\\t  SPACE                bg    87\n",
       "26  279-03.xml        4          NUM    NUM  id-medicalrecord    89\n",
       "27  279-03.xml        4         \\n\\n  SPACE                bg    96\n",
       "28  279-03.xml        5         date   NOUN                bg    98\n",
       "29  279-03.xml        5            :  PUNCT                bg   102\n",
       "30  279-03.xml        5           \\t  SPACE                bg   104\n",
       "31  279-03.xml        5     01/13/93  PUNCT         date-date   106\n",
       "32  279-03.xml        5         \\n\\n  SPACE                bg   114\n",
       "33  279-03.xml        6          pcp   NOUN                bg   116\n",
       "34  279-03.xml        6            :  PUNCT                bg   119\n",
       "35  279-03.xml        6         \\t\\t  SPACE                bg   120\n",
       "36  279-03.xml        6     oliveira  PROPN       name-doctor   122"
      ]
     },
     "execution_count": 300,
     "metadata": {},
     "output_type": "execute_result"
    }
   ],
   "source": [
    "new_df.head(30)"
   ]
  },
  {
   "cell_type": "code",
   "execution_count": null,
   "metadata": {
    "scrolled": true
   },
   "outputs": [],
   "source": [
    "\"\"\"\n",
    "# deprecated code\n",
    "num_sentences=df['sentence'].max()\n",
    "for i in range(num_sentences):\n",
    "    data=df.loc[df['sentence']==i]\n",
    "    sentence_num=len(data)\n",
    "    bg_num=len(data.loc[data.label=='bg'])\n",
    "    if sentence_num==bg_num:        \n",
    "        indexNames = df[df['sentence'] == i].index\n",
    "        df.drop(indexNames , inplace=True)\n",
    "\"\"\"\n"
   ]
  },
  {
   "cell_type": "code",
   "execution_count": 317,
   "metadata": {
    "scrolled": true
   },
   "outputs": [
    {
     "data": {
      "text/plain": [
       "bg                         101196\n",
       "date-date                    7970\n",
       "name-doctor                  3492\n",
       "location-hospital            1722\n",
       "name-patient                 1659\n",
       "id-medicalrecord              889\n",
       "age-age                       816\n",
       "contact-phone                 563\n",
       "location-street               438\n",
       "location-city                 342\n",
       "id-idnum                      275\n",
       "profession-profession         261\n",
       "location-state                222\n",
       "name-username                 219\n",
       "location-organization         166\n",
       "location-zip                  145\n",
       "location-country               59\n",
       "contact-fax                    25\n",
       "phi-date                       12\n",
       "location-location-other        12\n",
       "id-device                       7\n",
       "contact-url                     6\n",
       "phi-doctor                      3\n",
       "contact-email                   3\n",
       "phi-patient                     3\n",
       "id-healthplan                   2\n",
       "id-bioid                        1\n",
       "Name: label, dtype: int64"
      ]
     },
     "execution_count": 317,
     "metadata": {},
     "output_type": "execute_result"
    }
   ],
   "source": [
    "new_df['label'].value_counts()"
   ]
  },
  {
   "cell_type": "markdown",
   "metadata": {},
   "source": [
    "## Part 3: Data preparation \n",
    "#### In this part, we are trying to calculate the number of words,labels, characters and make embeddings for them(word to index, tag to index, character to index). And we're also going to map the reversed order so that the prediction result(matrix) can be translated into tags."
   ]
  },
  {
   "cell_type": "code",
   "execution_count": 318,
   "metadata": {
    "scrolled": true
   },
   "outputs": [
    {
     "data": {
      "text/plain": [
       "9667"
      ]
     },
     "execution_count": 318,
     "metadata": {},
     "output_type": "execute_result"
    }
   ],
   "source": [
    "words = list(set(new_df[\"token\"].values))\n",
    "n_words = len(words); n_words"
   ]
  },
  {
   "cell_type": "code",
   "execution_count": 319,
   "metadata": {
    "scrolled": true
   },
   "outputs": [
    {
     "data": {
      "text/plain": [
       "27"
      ]
     },
     "execution_count": 319,
     "metadata": {},
     "output_type": "execute_result"
    }
   ],
   "source": [
    "tags = list(set(new_df[\"label\"].values))\n",
    "n_tags = len(tags); n_tags"
   ]
  },
  {
   "cell_type": "markdown",
   "metadata": {},
   "source": [
    "#### The sentenceGetter class can be used for retrieving sentences with their labels "
   ]
  },
  {
   "cell_type": "code",
   "execution_count": 320,
   "metadata": {
    "scrolled": true
   },
   "outputs": [],
   "source": [
    "# retrieve sentence with labels\n",
    "class SentenceGetter(object):\n",
    "    \n",
    "    def __init__(self, data):\n",
    "        self.n_sent = 1\n",
    "        self.data = data\n",
    "        self.empty = False\n",
    "        agg_func = lambda s: [(t, p, l) for t, p, l in zip(s[\"token\"].values.tolist(),\n",
    "                                                     s['POS'].values.tolist(),\n",
    "                                                           s[\"label\"].values.tolist())]\n",
    "        self.grouped = self.data.groupby(\"sentence\").apply(agg_func)\n",
    "        self.sentences = [s for s in self.grouped]\n",
    "    \n",
    "    def get_next(self):\n",
    "        try:\n",
    "            s = self.grouped[self.n_sent]\n",
    "            self.n_sent += 1\n",
    "            return s\n",
    "        except:\n",
    "            return None"
   ]
  },
  {
   "cell_type": "code",
   "execution_count": 321,
   "metadata": {
    "scrolled": true
   },
   "outputs": [],
   "source": [
    "getter = SentenceGetter(new_df)\n",
    "sent = getter.get_next()\n"
   ]
  },
  {
   "cell_type": "markdown",
   "metadata": {},
   "source": [
    "#### Here's how a sentence looks like"
   ]
  },
  {
   "cell_type": "code",
   "execution_count": 322,
   "metadata": {
    "scrolled": true
   },
   "outputs": [
    {
     "data": {
      "text/plain": [
       "[('record', 'NOUN', 'bg'),\n",
       " ('date', 'NOUN', 'bg'),\n",
       " (':', 'PUNCT', 'bg'),\n",
       " ('NUM', 'NUM', 'date-date'),\n",
       " ('-', 'PUNCT', 'date-date'),\n",
       " ('NUM', 'NUM', 'date-date'),\n",
       " ('-', 'SYM', 'date-date'),\n",
       " ('NUM', 'NUM', 'date-date'),\n",
       " ('\\n\\n', 'SPACE', 'bg')]"
      ]
     },
     "execution_count": 322,
     "metadata": {},
     "output_type": "execute_result"
    }
   ],
   "source": [
    "sent"
   ]
  },
  {
   "cell_type": "markdown",
   "metadata": {},
   "source": [
    "#### Get all sentences"
   ]
  },
  {
   "cell_type": "code",
   "execution_count": 323,
   "metadata": {
    "scrolled": true
   },
   "outputs": [
    {
     "data": {
      "text/plain": [
       "9131"
      ]
     },
     "execution_count": 323,
     "metadata": {},
     "output_type": "execute_result"
    }
   ],
   "source": [
    "sentences = getter.sentences\n",
    "len(sentences)"
   ]
  },
  {
   "cell_type": "markdown",
   "metadata": {},
   "source": [
    "#### Introduce dictionaries of words and tags"
   ]
  },
  {
   "cell_type": "code",
   "execution_count": 324,
   "metadata": {
    "scrolled": true
   },
   "outputs": [],
   "source": [
    "max_len = 75\n",
    "max_len_char = 10"
   ]
  },
  {
   "cell_type": "code",
   "execution_count": 325,
   "metadata": {
    "scrolled": true
   },
   "outputs": [],
   "source": [
    "word2idx = {w: i + 2 for i, w in enumerate(words)}\n",
    "word2idx[\"UNK\"] = 1\n",
    "word2idx[\"PAD\"] = 0\n",
    "idx2word = {i: w for w, i in word2idx.items()}\n",
    "tag2idx = {t: i + 1 for i, t in enumerate(tags)}\n",
    "tag2idx[\"PAD\"] = 0\n",
    "idx2tag = {i: w for w, i in tag2idx.items()}"
   ]
  },
  {
   "cell_type": "markdown",
   "metadata": {},
   "source": [
    "#### Now we map the sentences to a sequence of numbers and then pad the sequence. Note that we increased the index of the words by one to use zero as a padding value. This is done because we want to use the mask_zero parameter of the embedding layer to ignore inputs with value zero."
   ]
  },
  {
   "cell_type": "code",
   "execution_count": 326,
   "metadata": {
    "scrolled": true
   },
   "outputs": [
    {
     "data": {
      "text/plain": [
       "[[5139, 6925, 1818, 9498, 3895, 9498, 3895, 9498, 8717],\n",
       " [2897, 1818, 5655, 883, 1166, 5671, 8717],\n",
       " [5042, 2955, 1745, 9498, 8717],\n",
       " [6925, 1818, 3210, 7600, 8717],\n",
       " [668, 1818, 1745, 9136, 1166, 763, 9059, 5152]]"
      ]
     },
     "execution_count": 326,
     "metadata": {},
     "output_type": "execute_result"
    }
   ],
   "source": [
    "X_word = [[word2idx[w[0]] for w in s] for s in sentences]\n",
    "X_word[:5]"
   ]
  },
  {
   "cell_type": "code",
   "execution_count": 327,
   "metadata": {
    "scrolled": true
   },
   "outputs": [
    {
     "data": {
      "text/plain": [
       "array([5139, 6925, 1818, 9498, 3895, 9498, 3895, 9498, 8717,    0,    0,\n",
       "          0,    0,    0,    0,    0,    0,    0,    0,    0,    0,    0,\n",
       "          0,    0,    0,    0,    0,    0,    0,    0,    0,    0,    0,\n",
       "          0,    0,    0,    0,    0,    0,    0,    0,    0,    0,    0,\n",
       "          0,    0,    0,    0,    0,    0,    0,    0,    0,    0,    0,\n",
       "          0,    0,    0,    0,    0,    0,    0,    0,    0,    0,    0,\n",
       "          0,    0,    0,    0,    0,    0,    0,    0,    0], dtype=int32)"
      ]
     },
     "execution_count": 327,
     "metadata": {},
     "output_type": "execute_result"
    }
   ],
   "source": [
    "X_word = pad_sequences(maxlen=max_len, sequences=X_word, value=word2idx[\"PAD\"], padding='post', truncating='post')\n",
    "X_word[0]"
   ]
  },
  {
   "cell_type": "markdown",
   "metadata": {},
   "source": [
    "#### Now we have to generate a dictionary for the characters we want to use and create the sequence of characters for every token. Note that we, rather arbitary, set max_len_char to 10. We could also use longer or shorter sequences. We could even use two sequences, one with the five first characters and one with the five last characters."
   ]
  },
  {
   "cell_type": "code",
   "execution_count": 328,
   "metadata": {
    "scrolled": true
   },
   "outputs": [
    {
     "data": {
      "text/plain": [
       "71"
      ]
     },
     "execution_count": 328,
     "metadata": {},
     "output_type": "execute_result"
    }
   ],
   "source": [
    "chars = set([w_i for w in words for w_i in w])\n",
    "n_chars = len(chars);n_chars"
   ]
  },
  {
   "cell_type": "code",
   "execution_count": 329,
   "metadata": {
    "scrolled": true
   },
   "outputs": [],
   "source": [
    "char2idx = {c: i + 2 for i, c in enumerate(chars)}\n",
    "char2idx[\"UNK\"] = 1\n",
    "char2idx[\"PAD\"] = 0"
   ]
  },
  {
   "cell_type": "code",
   "execution_count": 330,
   "metadata": {
    "scrolled": true
   },
   "outputs": [],
   "source": [
    "X_char = []\n",
    "for sentence in sentences:\n",
    "    sent_seq = []\n",
    "    for i in range(max_len):\n",
    "        word_seq = []\n",
    "        for j in range(max_len_char):\n",
    "            try:\n",
    "                word_seq.append(char2idx.get(sentence[i][0][j]))\n",
    "            except:\n",
    "                word_seq.append(char2idx.get(\"PAD\"))\n",
    "        sent_seq.append(word_seq)\n",
    "    X_char.append(np.array(sent_seq))"
   ]
  },
  {
   "cell_type": "markdown",
   "metadata": {},
   "source": [
    "#### And we need to do the same mapping and padding for our tag sequence."
   ]
  },
  {
   "cell_type": "code",
   "execution_count": 331,
   "metadata": {
    "scrolled": true
   },
   "outputs": [],
   "source": [
    "y = [[tag2idx[w[2]] for w in s] for s in sentences]\n",
    "y = pad_sequences(maxlen=max_len, sequences=y, value=tag2idx[\"PAD\"], padding='post', truncating='post')\n"
   ]
  },
  {
   "cell_type": "markdown",
   "metadata": {},
   "source": [
    "## Part 4: LSTM & CNN"
   ]
  },
  {
   "cell_type": "code",
   "execution_count": 332,
   "metadata": {
    "scrolled": true
   },
   "outputs": [],
   "source": [
    "from sklearn.model_selection import train_test_split"
   ]
  },
  {
   "cell_type": "code",
   "execution_count": 333,
   "metadata": {
    "scrolled": true
   },
   "outputs": [],
   "source": [
    "X_word_tr, X_word_te, y_tr, y_te = train_test_split(X_word, y, test_size=0.1, random_state=2020)\n",
    "X_char_tr, X_char_te, _, _ = train_test_split(X_char, y, test_size=0.1, random_state=2020)"
   ]
  },
  {
   "cell_type": "markdown",
   "metadata": {},
   "source": [
    "#### The trick here is, to wrap the parts that should be applied to the characters in a TimeDistributed layer to apply the same layers to every character sequence."
   ]
  },
  {
   "cell_type": "code",
   "execution_count": 334,
   "metadata": {
    "scrolled": true
   },
   "outputs": [],
   "source": [
    "from tensorflow.keras.models import Model\n",
    "from tensorflow.keras import Input\n",
    "from tensorflow.keras.layers import LSTM, Embedding, Dense, TimeDistributed, Dropout, Conv1D\n",
    "from tensorflow.keras.layers import Bidirectional, concatenate, SpatialDropout1D, GlobalMaxPooling1D"
   ]
  },
  {
   "cell_type": "code",
   "execution_count": 335,
   "metadata": {
    "scrolled": true
   },
   "outputs": [],
   "source": [
    "# input and embedding for words\n",
    "word_in = Input(shape=(max_len,))\n",
    "emb_word = Embedding(input_dim=n_words + 2, output_dim=20,\n",
    "                     input_length=max_len, mask_zero=True)(word_in)\n",
    "\n",
    "# input and embeddings for characters\n",
    "char_in = Input(shape=(max_len, max_len_char,))\n",
    "emb_char = TimeDistributed(Embedding(input_dim=n_chars + 2, output_dim=10,\n",
    "                           input_length=max_len_char, mask_zero=True))(char_in)\n",
    "\n",
    "# character LSTM to get word encodings by characters\n",
    "char_enc = TimeDistributed(LSTM(units=20, return_sequences=False,\n",
    "                                recurrent_dropout=0.5))(emb_char)\n",
    "\n",
    "# main LSTM\n",
    "x = concatenate([emb_word, char_enc])\n",
    "x = SpatialDropout1D(0.3)(x)\n",
    "main_lstm = Bidirectional(LSTM(units=50, return_sequences=True,\n",
    "                               recurrent_dropout=0.6))(x)\n",
    "\n",
    "# can also try soft-max, coco-lost, focolcross\n",
    "# https://www.tensorflow.org/addons/api_docs/python/tfa/losses/SigmoidFocalCrossEntropy\n",
    "out = TimeDistributed(Dense(n_tags + 1, activation=\"sigmoid\"))(main_lstm)\n",
    "model = Model([word_in, char_in], out)"
   ]
  },
  {
   "cell_type": "markdown",
   "metadata": {},
   "source": [
    "#### Now we can compile the model as always and look at the summary."
   ]
  },
  {
   "cell_type": "code",
   "execution_count": 336,
   "metadata": {
    "scrolled": true
   },
   "outputs": [],
   "source": [
    "import tensorflow as tf\n",
    "model.compile(optimizer=\"adam\", loss=\"sparse_categorical_crossentropy\", metrics=[\"acc\"])\n",
    "\n",
    "# can also try sparse_categorical_crossentropy\n",
    "# tf.keras.losses.SigmoidFocalCrossEntropy()"
   ]
  },
  {
   "cell_type": "code",
   "execution_count": 337,
   "metadata": {
    "scrolled": true
   },
   "outputs": [
    {
     "name": "stdout",
     "output_type": "stream",
     "text": [
      "Model: \"model_7\"\n",
      "__________________________________________________________________________________________________\n",
      "Layer (type)                    Output Shape         Param #     Connected to                     \n",
      "==================================================================================================\n",
      "input_16 (InputLayer)           [(None, 75, 10)]     0                                            \n",
      "__________________________________________________________________________________________________\n",
      "input_15 (InputLayer)           [(None, 75)]         0                                            \n",
      "__________________________________________________________________________________________________\n",
      "time_distributed_21 (TimeDistri (None, 75, 10, 10)   730         input_16[0][0]                   \n",
      "__________________________________________________________________________________________________\n",
      "embedding_14 (Embedding)        (None, 75, 20)       193380      input_15[0][0]                   \n",
      "__________________________________________________________________________________________________\n",
      "time_distributed_22 (TimeDistri (None, 75, 20)       2480        time_distributed_21[0][0]        \n",
      "__________________________________________________________________________________________________\n",
      "concatenate_7 (Concatenate)     (None, 75, 40)       0           embedding_14[0][0]               \n",
      "                                                                 time_distributed_22[0][0]        \n",
      "__________________________________________________________________________________________________\n",
      "spatial_dropout1d_7 (SpatialDro (None, 75, 40)       0           concatenate_7[0][0]              \n",
      "__________________________________________________________________________________________________\n",
      "bidirectional_7 (Bidirectional) (None, 75, 100)      36400       spatial_dropout1d_7[0][0]        \n",
      "__________________________________________________________________________________________________\n",
      "time_distributed_23 (TimeDistri (None, 75, 28)       2828        bidirectional_7[0][0]            \n",
      "==================================================================================================\n",
      "Total params: 235,818\n",
      "Trainable params: 235,818\n",
      "Non-trainable params: 0\n",
      "__________________________________________________________________________________________________\n"
     ]
    }
   ],
   "source": [
    "model.summary()"
   ]
  },
  {
   "cell_type": "code",
   "execution_count": 338,
   "metadata": {
    "scrolled": true
   },
   "outputs": [
    {
     "name": "stdout",
     "output_type": "stream",
     "text": [
      "Train on 7395 samples, validate on 822 samples\n",
      "Epoch 1/20\n",
      "7395/7395 [==============================] - 33s 4ms/sample - loss: 0.2049 - acc: 0.8284 - val_loss: 0.1222 - val_acc: 0.8390\n",
      "Epoch 2/20\n",
      "7395/7395 [==============================] - 27s 4ms/sample - loss: 0.1003 - acc: 0.8360 - val_loss: 0.0844 - val_acc: 0.8390\n",
      "Epoch 3/20\n",
      "7395/7395 [==============================] - 35s 5ms/sample - loss: 0.0746 - acc: 0.8360 - val_loss: 0.0675 - val_acc: 0.8392\n",
      "Epoch 4/20\n",
      "7395/7395 [==============================] - 29s 4ms/sample - loss: 0.0629 - acc: 0.8362 - val_loss: 0.0606 - val_acc: 0.8396\n",
      "Epoch 5/20\n",
      "7395/7395 [==============================] - 50s 7ms/sample - loss: 0.0571 - acc: 0.8407 - val_loss: 0.0560 - val_acc: 0.8613\n",
      "Epoch 6/20\n",
      "7395/7395 [==============================] - 33s 4ms/sample - loss: 0.0474 - acc: 0.8977 - val_loss: 0.0455 - val_acc: 0.9037\n",
      "Epoch 7/20\n",
      "7395/7395 [==============================] - 29s 4ms/sample - loss: 0.0404 - acc: 0.9130 - val_loss: 0.0408 - val_acc: 0.9145\n",
      "Epoch 8/20\n",
      "7395/7395 [==============================] - 28s 4ms/sample - loss: 0.0357 - acc: 0.9241 - val_loss: 0.0364 - val_acc: 0.9247\n",
      "Epoch 9/20\n",
      "7395/7395 [==============================] - 29s 4ms/sample - loss: 0.0315 - acc: 0.9370 - val_loss: 0.0332 - val_acc: 0.9392\n",
      "Epoch 10/20\n",
      "7395/7395 [==============================] - 28s 4ms/sample - loss: 0.0281 - acc: 0.9504 - val_loss: 0.0305 - val_acc: 0.9488\n",
      "Epoch 11/20\n",
      "7395/7395 [==============================] - 28s 4ms/sample - loss: 0.0249 - acc: 0.9580 - val_loss: 0.0279 - val_acc: 0.9526\n",
      "Epoch 12/20\n",
      "7395/7395 [==============================] - 27s 4ms/sample - loss: 0.0221 - acc: 0.9634 - val_loss: 0.0259 - val_acc: 0.9576\n",
      "Epoch 13/20\n",
      "7395/7395 [==============================] - 27s 4ms/sample - loss: 0.0200 - acc: 0.9663 - val_loss: 0.0249 - val_acc: 0.9580\n",
      "Epoch 14/20\n",
      "7395/7395 [==============================] - 27s 4ms/sample - loss: 0.0183 - acc: 0.9694 - val_loss: 0.0237 - val_acc: 0.9602\n",
      "Epoch 15/20\n",
      "7395/7395 [==============================] - 28s 4ms/sample - loss: 0.0169 - acc: 0.9712 - val_loss: 0.0233 - val_acc: 0.9612\n",
      "Epoch 16/20\n",
      "7395/7395 [==============================] - 26s 4ms/sample - loss: 0.0157 - acc: 0.9736 - val_loss: 0.0223 - val_acc: 0.9622\n",
      "Epoch 17/20\n",
      "7395/7395 [==============================] - 26s 4ms/sample - loss: 0.0149 - acc: 0.9749 - val_loss: 0.0216 - val_acc: 0.9634\n",
      "Epoch 18/20\n",
      "7395/7395 [==============================] - 27s 4ms/sample - loss: 0.0139 - acc: 0.9763 - val_loss: 0.0210 - val_acc: 0.9663\n",
      "Epoch 19/20\n",
      "7395/7395 [==============================] - 27s 4ms/sample - loss: 0.0130 - acc: 0.9779 - val_loss: 0.0209 - val_acc: 0.9664\n",
      "Epoch 20/20\n",
      "7395/7395 [==============================] - 26s 4ms/sample - loss: 0.0123 - acc: 0.9791 - val_loss: 0.0202 - val_acc: 0.9678\n"
     ]
    }
   ],
   "source": [
    "history = model.fit([X_word_tr,\n",
    "                     np.array(X_char_tr).reshape((len(X_char_tr), max_len, max_len_char))],\n",
    "                    np.array(y_tr).reshape(len(y_tr), max_len, 1),\n",
    "                    batch_size=32, epochs=20, validation_split=0.1, verbose=1)"
   ]
  },
  {
   "cell_type": "code",
   "execution_count": 339,
   "metadata": {
    "scrolled": true
   },
   "outputs": [],
   "source": [
    "hist = pd.DataFrame(history.history)"
   ]
  },
  {
   "cell_type": "code",
   "execution_count": 340,
   "metadata": {
    "scrolled": true
   },
   "outputs": [
    {
     "data": {
      "image/png": "[encoded data removed]",
      "text/plain": [
       "<Figure size 432x432 with 1 Axes>"
      ]
     },
     "metadata": {},
     "output_type": "display_data"
    }
   ],
   "source": [
    "import matplotlib.pyplot as plt\n",
    "plt.style.use(\"ggplot\")\n",
    "plt.figure(figsize=(6,6))\n",
    "plt.xlabel('epoch')\n",
    "plt.ylabel('accuracy')\n",
    "plt.plot(hist[\"acc\"],label='Training')\n",
    "plt.plot(hist[\"val_acc\"],label='Testing')\n",
    "plt.legend()\n",
    "plt.savefig('epoch=20')\n",
    "plt.show()"
   ]
  },
  {
   "cell_type": "markdown",
   "metadata": {},
   "source": [
    "## Part 5: Model evaluation\n",
    "#### As this is multi-class prediction, we have to change it into binary prediction to get the recall score and precision score.\n"
   ]
  },
  {
   "cell_type": "code",
   "execution_count": 341,
   "metadata": {
    "scrolled": true
   },
   "outputs": [],
   "source": [
    "y_pred = model.predict([X_word_te,\n",
    "                        np.array(X_char_te).reshape((len(X_char_te),\n",
    "                                                     max_len, max_len_char))])"
   ]
  },
  {
   "cell_type": "code",
   "execution_count": 342,
   "metadata": {
    "scrolled": true
   },
   "outputs": [],
   "source": [
    "X_test=[X_word_te,np.array(X_char_te).reshape((len(X_char_te), max_len, max_len_char))]\n",
    "y_test=np.array(y_te).reshape(len(y_te), max_len, 1)"
   ]
  },
  {
   "cell_type": "code",
   "execution_count": 343,
   "metadata": {
    "scrolled": true
   },
   "outputs": [
    {
     "name": "stdout",
     "output_type": "stream",
     "text": [
      "914/1 - 1s - loss: 0.0205 - acc: 0.9634\n",
      "test accuracy: 0.96339756\n"
     ]
    }
   ],
   "source": [
    "score,acc=model.evaluate(X_test,y_test,\n",
    "                        batch_size=32,verbose=2)\n",
    "print(\"test accuracy:\",acc)"
   ]
  },
  {
   "cell_type": "code",
   "execution_count": 344,
   "metadata": {
    "scrolled": true
   },
   "outputs": [
    {
     "name": "stdout",
     "output_type": "stream",
     "text": [
      "(75, 28)\n"
     ]
    },
    {
     "data": {
      "text/plain": [
       "array([[0.0000000e+00, 0.0000000e+00, 1.2516975e-06, ..., 1.7881393e-07,\n",
       "        0.0000000e+00, 1.4901161e-07],\n",
       "       [0.0000000e+00, 0.0000000e+00, 1.4901161e-06, ..., 1.7881393e-07,\n",
       "        0.0000000e+00, 0.0000000e+00],\n",
       "       [0.0000000e+00, 0.0000000e+00, 1.4901161e-07, ..., 1.7881393e-07,\n",
       "        0.0000000e+00, 0.0000000e+00],\n",
       "       ...,\n",
       "       [4.6662298e-01, 4.7068760e-01, 4.3208617e-01, ..., 4.5220309e-01,\n",
       "        4.6792403e-01, 4.5470598e-01],\n",
       "       [4.6662298e-01, 4.7068760e-01, 4.3208617e-01, ..., 4.5220309e-01,\n",
       "        4.6792403e-01, 4.5470598e-01],\n",
       "       [4.6662298e-01, 4.7068760e-01, 4.3208617e-01, ..., 4.5220309e-01,\n",
       "        4.6792403e-01, 4.5470598e-01]], dtype=float32)"
      ]
     },
     "execution_count": 344,
     "metadata": {},
     "output_type": "execute_result"
    }
   ],
   "source": [
    "# see how's the original prediction look like\n",
    "print(y_pred[0].shape)\n",
    "y_pred[0]"
   ]
  },
  {
   "cell_type": "markdown",
   "metadata": {},
   "source": [
    "#### See some sample predictions"
   ]
  },
  {
   "cell_type": "code",
   "execution_count": 345,
   "metadata": {
    "scrolled": false
   },
   "outputs": [
    {
     "name": "stdout",
     "output_type": "stream",
     "text": [
      "Word                     ||True                     ||Pred                \n",
      "======================================================================\n",
      "shoemaker                : name-doctor               name-doctor         \n",
      "NUM                      : date-date                 date-date           \n",
      "NUM                      : date-date                 date-date           \n",
      "NUM                      : date-date                 date-date           \n",
      "2/11/81                  : date-date                 date-date           \n",
      "wheeling                 : location-hospital         location-hospital   \n",
      "clinic                   : location-hospital         location-hospital   \n",
      "beverly                  : name-doctor               name-doctor         \n",
      "thiel                    : name-doctor               name-doctor         \n",
      "NUM                      : age-age                   age-age             \n",
      "NUM                      : date-date                 date-date           \n",
      "dotson                   : name-doctor               name-doctor         \n",
      "NUM                      : bg                        age-age             \n",
      "vogel                    : name-doctor               name-doctor         \n",
      "joshi                    : name-patient              name-patient        \n",
      "youngman                 : name-doctor               name-doctor         \n",
      "mrcp(eng                 : bg                        name-doctor         \n",
      "NUM                      : age-age                   age-age             \n",
      "lucille                  : name-doctor               name-doctor         \n",
      "jackson                  : name-doctor               name-doctor         \n",
      "joyce                    : name-doctor               name-doctor         \n",
      "r.                       : name-doctor               name-doctor         \n",
      "ullrich                  : name-doctor               name-doctor         \n",
      "ted                      : name-patient              name-patient        \n",
      "NUM                      : contact-phone             contact-phone       \n",
      "NUM                      : date-date                 date-date           \n",
      "educare                  : location-hospital         location-hospital   \n",
      "-                        : location-hospital         location-hospital   \n",
      "fargo                    : location-hospital         location-hospital   \n",
      "quijano                  : name-patient              name-patient        \n",
      "NUM                      : date-date                 date-date           \n",
      "NUM                      : id-medicalrecord          id-medicalrecord    \n",
      "secretary                : profession-profession     profession-profession\n",
      "08/12/94                 : date-date                 date-date           \n",
      "NUM                      : date-date                 date-date           \n",
      "NUM                      : date-date                 date-date           \n",
      "-                        : date-date                 date-date           \n",
      "NUM                      : date-date                 date-date           \n",
      "-                        : date-date                 date-date           \n",
      "NUM                      : date-date                 date-date           \n",
      "stephen                  : name-doctor               name-doctor         \n",
      "a.n                      : name-doctor               name-doctor         \n",
      ".                        : name-doctor               name-doctor         \n",
      "xayachack                : name-doctor               name-doctor         \n",
      "nicole                   : name-patient              name-patient        \n",
      "frantz                   : name-patient              name-patient        \n",
      "NUM                      : date-date                 date-date           \n",
      "april                    : date-date                 date-date           \n",
      "NUM                      : date-date                 date-date           \n",
      ",                        : date-date                 date-date           \n",
      "NUM                      : date-date                 date-date           \n",
      "william                  : name-doctor               name-doctor         \n",
      "yarger                   : name-doctor               name-doctor         \n",
      "ry70                     : name-username             name-username       \n",
      "NUM                      : location-street           location-street     \n",
      "williams                 : location-street           location-street     \n",
      "ct                       : location-street           location-street     \n",
      "xian                     : name-patient              name-patient        \n",
      ",                        : name-patient              name-patient        \n",
      "brooklyn                 : name-patient              name-patient        \n",
      "NUM                      : date-date                 date-date           \n",
      "NUM                      : bg                        date-date           \n",
      "NUM                      : date-date                 age-age             \n",
      "-                        : date-date                 date-date           \n",
      "NUM                      : date-date                 id-medicalrecord    \n",
      "-                        : date-date                 id-medicalrecord    \n",
      "NUM                      : date-date                 id-medicalrecord    \n",
      "county                   : location-hospital         location-hospital   \n",
      "hospital                 : location-hospital         location-hospital   \n",
      "benitez                  : name-patient              name-patient        \n",
      "august                   : date-date                 date-date           \n",
      "trevor                   : name-doctor               name-doctor         \n",
      "h.                       : name-doctor               name-doctor         \n",
      "craft                    : name-doctor               name-doctor         \n",
      "NUM                      : date-date                 date-date           \n",
      "-                        : date-date                 date-date           \n",
      "NUM                      : date-date                 date-date           \n",
      "-                        : date-date                 date-date           \n",
      "NUM                      : date-date                 date-date           \n",
      "NUM                      : date-date                 date-date           \n",
      "40s                      : age-age                   age-age             \n",
      "NUM                      : bg                        date-date           \n",
      "NUM                      : date-date                 date-date           \n",
      "50yo                     : age-age                   age-age             \n",
      "NUM                      : bg                        age-age             \n",
      "NUM                      : bg                        date-date           \n",
      "may                      : date-date                 date-date           \n",
      "NUM                      : date-date                 date-date           \n",
      "state                    : bg                        location-hospital   \n",
      "NUM                      : date-date                 date-date           \n",
      "-                        : date-date                 date-date           \n",
      "NUM                      : date-date                 date-date           \n",
      "-                        : date-date                 date-date           \n",
      "NUM                      : date-date                 date-date           \n",
      "NUM                      : date-date                 date-date           \n",
      "-                        : date-date                 date-date           \n",
      "NUM                      : date-date                 date-date           \n",
      "-                        : date-date                 date-date           \n",
      "NUM                      : date-date                 date-date           \n",
      "nielson                  : name-patient              name-patient        \n"
     ]
    }
   ],
   "source": [
    "print(\"{:25}||{:25}||{:20}\".format(\"Word\", \"True\", \"Pred\"))\n",
    "print(70 * \"=\")\n",
    "n=0\n",
    "for i in range(len(y_pred)):\n",
    "    p = np.argmax(y_pred[i], axis=-1)\n",
    "    for w, t, pred in zip(X_word_te[i], y_te[i], p):\n",
    "        if w != 0:\n",
    "            if idx2tag[pred]!='bg':\n",
    "                n+=1\n",
    "                print(\"{:25}: {:25} {:20}\".format(idx2word[w], idx2tag[t], idx2tag[pred]))\n",
    "        if n == 100 :\n",
    "            break\n",
    "    if n==100:\n",
    "        break"
   ]
  },
  {
   "cell_type": "code",
   "execution_count": 346,
   "metadata": {
    "scrolled": true
   },
   "outputs": [
    {
     "name": "stdout",
     "output_type": "stream",
     "text": [
      "\n",
      "Confusion matrix:\n",
      "  tp: 1725 fn:  219\n",
      "  fp:  909 tn: 9399 \n",
      "\n",
      "precision: 0.6548974943052391 \n",
      "\n",
      "recall: 0.8873456790123457 \n",
      "\n",
      "acc: 0.9079333986287953\n"
     ]
    }
   ],
   "source": [
    "tp,tn,tp,fn=0,0,0,0\n",
    "for i in range(len(y_pred)):\n",
    "    p = np.argmax(y_pred[i], axis=-1)\n",
    "    for w, t, pred in zip(X_word_te[i], y_te[i], p):\n",
    "        if w != 0:\n",
    "            if idx2tag[t]!='bg' and idx2tag[pred]!='bg':\n",
    "                tp+=1\n",
    "            if idx2tag[t]=='bg' and idx2tag[pred]=='bg':\n",
    "                tn+=1\n",
    "            if idx2tag[t]=='bg' and idx2tag[pred]!='bg':\n",
    "                fp+=1\n",
    "            if idx2tag[t]!='bg' and idx2tag[pred]=='bg':\n",
    "                fn+=1\n",
    "print('\\nConfusion matrix:')\n",
    "print('  tp:{:5}'.format(tp),'fn:{:5}'.format(fn))\n",
    "print('  fp:{:5}'.format(fp),'tn:{:5}'.format(tn),'\\n')\n",
    "print('precision:', tp/(tp + fp),'\\n')\n",
    "print('recall:', tp/(tp + fn),'\\n')\n",
    "print('acc:', (tp + tn)/(tp + tn + fp + fn))"
   ]
  },
  {
   "cell_type": "code",
   "execution_count": null,
   "metadata": {},
   "outputs": [],
   "source": []
  }
 ],
 "metadata": {
  "kernelspec": {
   "display_name": "py3.6",
   "language": "python",
   "name": "py3.6"
  },
  "language_info": {
   "codemirror_mode": {
    "name": "ipython",
    "version": 3
   },
   "file_extension": ".py",
   "mimetype": "text/x-python",
   "name": "python",
   "nbconvert_exporter": "python",
   "pygments_lexer": "ipython3",
   "version": "3.6.8"
  }
 },
 "nbformat": 4,
 "nbformat_minor": 4
}
